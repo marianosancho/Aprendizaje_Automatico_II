{
 "cells": [
  {
   "cell_type": "markdown",
   "metadata": {},
   "source": [
    "# Lab 2b: Regresión."
   ]
  },
  {
   "cell_type": "markdown",
   "metadata": {},
   "source": [
    "[![Open In Colab](https://colab.research.google.com/assets/colab-badge.svg)](https://colab.research.google.com/github/FCEIA-AAII/lab2/blob/main/lab2b.ipynb)"
   ]
  },
  {
   "cell_type": "markdown",
   "metadata": {},
   "source": [
    "## Preparación del entorno.\n",
    "\n",
    "Si no estamos parados en el repo, clonar y cd al repo. Esto nos permite usar el mismo notebook tanto local como en Google Colab."
   ]
  },
  {
   "cell_type": "code",
   "execution_count": null,
   "metadata": {},
   "outputs": [],
   "source": [
    "import os\n",
    "\n",
    "REPO_NAME = \"lab2\"\n",
    "if REPO_NAME not in os.getcwd():\n",
    "  if not os.path.exists(REPO_NAME):\n",
    "    !git clone https://github.com/FCEIA-AAII/{REPO_NAME}.git\n",
    "  os.chdir(REPO_NAME)\n",
    "\n"
   ]
  },
  {
   "cell_type": "markdown",
   "metadata": {},
   "source": [
    "## Análisis Exploratorio."
   ]
  },
  {
   "cell_type": "markdown",
   "metadata": {},
   "source": [
    "Importar librerías"
   ]
  },
  {
   "cell_type": "code",
   "execution_count": null,
   "metadata": {},
   "outputs": [],
   "source": [
    "import numpy as np\n",
    "import matplotlib.pyplot as plt\n",
    "import pandas as pd\n",
    "import tensorflow as tf"
   ]
  },
  {
   "cell_type": "markdown",
   "metadata": {},
   "source": [
    "Establecer GPU por defecto en caso de estar disponible"
   ]
  },
  {
   "cell_type": "code",
   "execution_count": null,
   "metadata": {},
   "outputs": [],
   "source": [
    "# Configurar para que TensorFlow utilice la GPU por defecto\n",
    "gpus = tf.config.experimental.list_physical_devices('GPU')\n",
    "if gpus:\n",
    "    try:\n",
    "        # Configurar para que TensorFlow asigne memoria dinámicamente\n",
    "        for gpu in gpus:\n",
    "            tf.config.experimental.set_memory_growth(gpu, True)\n",
    "        # Especificar la GPU por defecto\n",
    "        logical_gpus = tf.config.experimental.list_logical_devices('GPU')\n",
    "        print(len(gpus), \"Physical GPUs,\", len(logical_gpus), \"Logical GPUs\")\n",
    "    except RuntimeError as e:\n",
    "        # Manejar error\n",
    "        print(e)"
   ]
  },
  {
   "cell_type": "markdown",
   "metadata": {},
   "source": [
    "Cargar y visualizar los datos."
   ]
  },
  {
   "cell_type": "code",
   "execution_count": null,
   "metadata": {},
   "outputs": [],
   "source": [
    "data = pd.read_csv('dataset-lab2-b.csv')\n",
    "print(data.head())"
   ]
  },
  {
   "cell_type": "markdown",
   "metadata": {},
   "source": [
    "Plot de los datos."
   ]
  },
  {
   "cell_type": "code",
   "execution_count": null,
   "metadata": {},
   "outputs": [],
   "source": [
    "X1 = data['X1'].to_numpy()\n",
    "X2 = data['X2'].to_numpy()\n",
    "Y = data['Y'].to_numpy()\n",
    "\n",
    "# Plot the data with a color map\n",
    "plt.scatter(X1, X2, c=Y, cmap='viridis', alpha=0.8)\n",
    "\n",
    "# Axis labels\n",
    "plt.xlabel('x1')\n",
    "plt.ylabel('x2')\n",
    "\n",
    "# Plot the color bar\n",
    "plt.colorbar()\n",
    "\n",
    "plt.show()\n",
    "plt.show()"
   ]
  },
  {
   "cell_type": "markdown",
   "metadata": {},
   "source": [
    "Definimos nuestro modelo usando tensorflow."
   ]
  },
  {
   "cell_type": "code",
   "execution_count": null,
   "metadata": {},
   "outputs": [],
   "source": [
    "model = tf.keras.Sequential([\n",
    "    tf.keras.layers.Input(shape=(2,)),\n",
    "    tf.keras.layers.Dense(units=1, activation='linear')\n",
    "])"
   ]
  },
  {
   "cell_type": "markdown",
   "metadata": {},
   "source": [
    "Definimos una función para plotear la frontera de decisión sobre los datos."
   ]
  },
  {
   "cell_type": "code",
   "execution_count": null,
   "metadata": {},
   "outputs": [],
   "source": [
    "def plot_results(X1, X2, Y, model):\n",
    "\n",
    "    # Axis labels\n",
    "    plt.xlabel('x1')\n",
    "    plt.ylabel('x2')\n",
    "\n",
    "    x1 = np.linspace(0, 1, 100)\n",
    "    x2 = np.linspace(0, 1, 100)\n",
    "\n",
    "    # Create a meshgrid with all the possible combinations of x1 and x2\n",
    "    x1, x2 = np.meshgrid(x1, x2, indexing='ij')\n",
    "\n",
    "    # This is equivalent to\n",
    "    # x = np.array([[i, j] for i in x1 for j in x2])\n",
    "    x = np.array([x1.ravel(), x2.ravel()]).T\n",
    "\n",
    "    # Predict the value for each point in the meshgrid\n",
    "    y = model.predict(x).reshape(x1.shape)\n",
    "\n",
    "    # Use cmap red and green\n",
    "    plt.contourf(x1, x2, y, alpha=0.5, cmap='viridis')\n",
    "    # Plot the data with a color map\n",
    "    plt.scatter(X1, X2, c=Y, cmap='viridis', alpha=1)\n",
    "\n",
    "    plt.xlim(0, 1)\n",
    "    plt.ylim(0, 1)\n",
    "\n",
    "    plt.show()\n",
    "\n",
    "plot_results(X1, X2, Y, model)"
   ]
  },
  {
   "cell_type": "markdown",
   "metadata": {},
   "source": [
    "Entrenamos el modelo."
   ]
  },
  {
   "cell_type": "code",
   "execution_count": null,
   "metadata": {},
   "outputs": [],
   "source": [
    "optimizer = tf.keras.optimizers.Adam(learning_rate=0.05)\n",
    "model.compile(optimizer=optimizer, loss='mse')\n",
    "\n",
    "x = np.column_stack([X1, X2])\n",
    "y = Y\n",
    "print(x.shape)\n",
    "print(y.shape)\n",
    "model.fit(x=x, y=y, epochs=50)"
   ]
  },
  {
   "cell_type": "markdown",
   "metadata": {},
   "source": [
    "Plot de los resultados"
   ]
  },
  {
   "cell_type": "code",
   "execution_count": null,
   "metadata": {},
   "outputs": [],
   "source": [
    "plot_results(X1, X2, Y, model)"
   ]
  },
  {
   "cell_type": "markdown",
   "metadata": {},
   "source": [
    "Probemos con un modelo más complejo.\n",
    "\n",
    "*Nota: el entrenamiento puede no converger a una solución óptima. Se propone correr el entrenamiento varias veces hasta que se obtenga una solución aceptable. Más adelante estudiaremos técnicas para mejorar la convergencia.*\n",
    "\n",
    "Definir un modelo más complejo en el siguiente bloque de código."
   ]
  },
  {
   "cell_type": "code",
   "execution_count": null,
   "metadata": {},
   "outputs": [],
   "source": [
    "model = tf.keras.Sequential([\n",
    "    #### DEFINIR EL MODELO AQUI ####\n",
    "    # Definir un modelo con al menos una capa oculta con 2 neuronas y una capa de salida.\n",
    "    ################################\n",
    "])\n",
    "\n",
    "# Experimentar con distintos valores de learning rate\n",
    "# y observar cómo afecta a la convergencia del modelo.\n",
    "# Probar distintos órdenes de magnitud. Ej: 5, 0.5, 0.05, 0.005, 0.0005\n",
    "optimizer = tf.keras.optimizers.Adam(learning_rate=0.05)\n",
    "model.compile(optimizer=optimizer, loss='mse')\n",
    "\n",
    "model.fit(x=x, y=y, epochs=60)\n",
    "\n",
    "plot_results(X1, X2, Y, model)"
   ]
  },
  {
   "cell_type": "markdown",
   "metadata": {},
   "source": [
    "Experimentar con distintas arquitecturas y funciones de activación."
   ]
  }
 ],
 "metadata": {
  "kernelspec": {
   "display_name": "env",
   "language": "python",
   "name": "python3"
  },
  "language_info": {
   "codemirror_mode": {
    "name": "ipython",
    "version": 3
   },
   "file_extension": ".py",
   "mimetype": "text/x-python",
   "name": "python",
   "nbconvert_exporter": "python",
   "pygments_lexer": "ipython3",
   "version": "3.8.10"
  }
 },
 "nbformat": 4,
 "nbformat_minor": 2
}
