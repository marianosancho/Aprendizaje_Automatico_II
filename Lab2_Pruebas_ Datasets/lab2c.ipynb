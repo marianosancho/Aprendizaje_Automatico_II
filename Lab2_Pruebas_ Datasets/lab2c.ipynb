{
 "cells": [
  {
   "cell_type": "markdown",
   "metadata": {},
   "source": [
    "# Lab 2c: Clasificación Multilabel"
   ]
  },
  {
   "cell_type": "markdown",
   "metadata": {},
   "source": [
    "[![Open In Colab](https://colab.research.google.com/assets/colab-badge.svg)](https://colab.research.google.com/github/FCEIA-AAII/lab2/blob/main/lab2c.ipynb)"
   ]
  },
  {
   "cell_type": "markdown",
   "metadata": {},
   "source": [
    "## Preparación del entorno.\n",
    "\n",
    "Si no estamos parados en el repo, clonar y cd al repo. Esto nos permite usar el mismo notebook tanto local como en Google Colab."
   ]
  },
  {
   "cell_type": "code",
   "execution_count": null,
   "metadata": {},
   "outputs": [],
   "source": [
    "import os\n",
    "\n",
    "REPO_NAME = \"lab2\"\n",
    "if REPO_NAME not in os.getcwd():\n",
    "  if not os.path.exists(REPO_NAME):\n",
    "    !git clone https://github.com/FCEIA-AAII/{REPO_NAME}.git\n",
    "  os.chdir(REPO_NAME)\n",
    "\n"
   ]
  },
  {
   "cell_type": "markdown",
   "metadata": {},
   "source": [
    "## Análisis Exploratorio."
   ]
  },
  {
   "cell_type": "markdown",
   "metadata": {},
   "source": [
    "Importar librerías"
   ]
  },
  {
   "cell_type": "code",
   "execution_count": null,
   "metadata": {},
   "outputs": [],
   "source": [
    "import numpy as np\n",
    "import matplotlib.pyplot as plt\n",
    "import pandas as pd\n",
    "import tensorflow as tf"
   ]
  },
  {
   "cell_type": "markdown",
   "metadata": {},
   "source": [
    "Establecer GPU por defecto en caso de estar disponible"
   ]
  },
  {
   "cell_type": "code",
   "execution_count": null,
   "metadata": {},
   "outputs": [],
   "source": [
    "# Configurar para que TensorFlow utilice la GPU por defecto\n",
    "gpus = tf.config.experimental.list_physical_devices('GPU')\n",
    "if gpus:\n",
    "    try:\n",
    "        # Configurar para que TensorFlow asigne memoria dinámicamente\n",
    "        for gpu in gpus:\n",
    "            tf.config.experimental.set_memory_growth(gpu, True)\n",
    "        # Especificar la GPU por defecto\n",
    "        logical_gpus = tf.config.experimental.list_logical_devices('GPU')\n",
    "        print(len(gpus), \"Physical GPUs,\", len(logical_gpus), \"Logical GPUs\")\n",
    "    except RuntimeError as e:\n",
    "        # Manejar error\n",
    "        print(e)"
   ]
  },
  {
   "cell_type": "markdown",
   "metadata": {},
   "source": [
    "Cargar y visualizar los datos."
   ]
  },
  {
   "cell_type": "code",
   "execution_count": null,
   "metadata": {},
   "outputs": [],
   "source": [
    "data = pd.read_csv('dataset-lab2-c.csv')\n",
    "print(data.head())"
   ]
  },
  {
   "cell_type": "markdown",
   "metadata": {},
   "source": [
    "Plot de los datos."
   ]
  },
  {
   "cell_type": "code",
   "execution_count": null,
   "metadata": {},
   "outputs": [],
   "source": [
    "X1 = data['X1'].to_numpy()\n",
    "X2 = data['X2'].to_numpy()\n",
    "Y = data['Y'].to_numpy()\n",
    "\n",
    "print(\"X1 shape:\", X1.shape)\n",
    "print(\"X2 shape:\", X2.shape)\n",
    "print(\"Y shape:\", Y.shape)\n",
    "\n",
    "plt.scatter(X1[Y == 0], X2[Y == 0], color='red', alpha=0.5)\n",
    "plt.scatter(X1[Y == 1], X2[Y == 1], color='green', alpha=0.5)\n",
    "plt.scatter(X1[Y == 2], X2[Y == 2], color='blue', alpha=0.5)\n",
    "\n",
    "plt.xlabel('Promedio Parciales')\n",
    "plt.ylabel('Promedio TPs')\n",
    "\n",
    "plt.show()"
   ]
  },
  {
   "cell_type": "markdown",
   "metadata": {},
   "source": [
    "Definimos nuestro modelo usando tensorflow."
   ]
  },
  {
   "cell_type": "code",
   "execution_count": null,
   "metadata": {},
   "outputs": [],
   "source": [
    "model = tf.keras.Sequential([\n",
    "    ##### DEFINIR EL MODELO AQUI #####\n",
    "    # Definir un modelo sin capas ocultas.\n",
    "    # Elegir correctamente la función de activación y \n",
    "    # la cantidad de neuronas de la capa de salida en\n",
    "    # base al problema.\n",
    "    ##################################\n",
    "])"
   ]
  },
  {
   "cell_type": "markdown",
   "metadata": {},
   "source": [
    "Entrenamos el modelo.\n",
    "\n",
    "*Nota: \"sparse_categorical_crossentropy\" encodea variables categoricas a one-hot y luego calcula binary_cross_entropy para cada componente. Nos permite utilizar `Y` directamente en formato {0,1,2} sin necesidad de encodearlo en one-hot.*"
   ]
  },
  {
   "cell_type": "code",
   "execution_count": null,
   "metadata": {},
   "outputs": [],
   "source": [
    "optimizer = tf.keras.optimizers.Adam(learning_rate=0.5)\n",
    "model.compile(optimizer=optimizer, loss='sparse_categorical_crossentropy', metrics=['accuracy'])\n",
    "\n",
    "x = np.column_stack([X1, X2])\n",
    "y = Y\n",
    "print(x.shape)\n",
    "print(y.shape)\n",
    "model.fit(x=x, y=y, epochs=50)"
   ]
  },
  {
   "cell_type": "markdown",
   "metadata": {},
   "source": [
    "Definimos una función para plotear la frontera de decisión sobre los datos."
   ]
  },
  {
   "cell_type": "code",
   "execution_count": null,
   "metadata": {},
   "outputs": [],
   "source": [
    "def plot_results(X1, X2, Y, model):\n",
    "    plt.scatter(X1[Y == 0], X2[Y == 0], color='red', alpha=0.5)\n",
    "    plt.scatter(X1[Y == 1], X2[Y == 1], color='green', alpha=0.5)\n",
    "    plt.scatter(X1[Y == 2], X2[Y == 2], color='blue', alpha=0.5)\n",
    "\n",
    "    plt.xlabel('Promedio Parciales')\n",
    "    plt.ylabel('Promedio TPs')\n",
    "\n",
    "    x1 = np.linspace(0, 1, 100)\n",
    "    x2 = np.linspace(0, 1, 100)\n",
    "\n",
    "    # Create a meshgrid with all the possible combinations of x1 and x2\n",
    "    x1, x2 = np.meshgrid(x1, x2, indexing='ij')\n",
    "\n",
    "    # This is equivalent to\n",
    "    # x = np.array([[i, j] for i in x1 for j in x2])\n",
    "    x = np.array([x1.ravel(), x2.ravel()]).T\n",
    "\n",
    "    # Predict the value for each point in the meshgrid\n",
    "    y = model.predict(x)\n",
    "\n",
    "    # Convert from one-hot encoding to a single number\n",
    "    y = np.argmax(y, axis=-1).reshape(x1.shape)\n",
    "\n",
    "    # Use cmap red and green\n",
    "    plt.contourf(x1, x2, y, alpha=0.1, cmap='RdYlGn')\n",
    "\n",
    "    # Draw the decision boundary\n",
    "    plt.contour(x1, x2, y, levels=[0, 1, 2], colors='blue')\n",
    "\n",
    "    plt.xlim(0, 1)\n",
    "    plt.ylim(0, 1)\n",
    "\n",
    "    plt.show()"
   ]
  },
  {
   "cell_type": "markdown",
   "metadata": {},
   "source": [
    "Plot de la frontera de decisión."
   ]
  },
  {
   "cell_type": "code",
   "execution_count": null,
   "metadata": {},
   "outputs": [],
   "source": [
    "plot_results(X1, X2, Y, model)"
   ]
  },
  {
   "cell_type": "markdown",
   "metadata": {},
   "source": [
    "Vemos que el modelo llega a una solución aceptable.\n",
    "\n",
    "Probemos entonces con un modelo más complejo (para ver que pasa).\n",
    "\n",
    "*Nota: el entrenamiento puede no converger a una solución óptima. Se propone correr el entrenamiento varias veces hasta que se obtenga una solución aceptable. Más adelante estudiaremos técnicas para mejorar la convergencia.*"
   ]
  },
  {
   "cell_type": "code",
   "execution_count": null,
   "metadata": {},
   "outputs": [],
   "source": [
    "model = tf.keras.Sequential([\n",
    "    ##### DEFINIR EL MODELO AQUI #####\n",
    "    # Definir un modelo más complejo con capas ocultas.\n",
    "    # Experimentar con la cantidad de capas, neuronas y\n",
    "    # funciones de activación.\n",
    "    # Elegir correctamente la función de activación y \n",
    "    # la cantidad de neuronas de la capa de salida en\n",
    "    # base al problema.\n",
    "    ##################################\n",
    "])\n",
    "\n",
    "# Experimentar con distintos valores de learning rate\n",
    "# y observar cómo afecta a la convergencia del modelo.\n",
    "# Probar distintos órdenes de magnitud. Ej: 5, 0.5, 0.05, 0.005, 0.0005\n",
    "optimizer = tf.keras.optimizers.Adam(learning_rate=0.5)\n",
    "model.compile(optimizer=optimizer, loss='sparse_categorical_crossentropy', metrics=['accuracy'])\n",
    "\n",
    "model.fit(x=x, y=y, epochs=50)\n",
    "\n",
    "plot_results(X1, X2, Y, model)"
   ]
  }
 ],
 "metadata": {
  "kernelspec": {
   "display_name": "env",
   "language": "python",
   "name": "python3"
  },
  "language_info": {
   "codemirror_mode": {
    "name": "ipython",
    "version": 3
   },
   "file_extension": ".py",
   "mimetype": "text/x-python",
   "name": "python",
   "nbconvert_exporter": "python",
   "pygments_lexer": "ipython3",
   "version": "3.8.10"
  }
 },
 "nbformat": 4,
 "nbformat_minor": 2
}
